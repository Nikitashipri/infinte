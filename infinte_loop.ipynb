{
  "nbformat": 4,
  "nbformat_minor": 0,
  "metadata": {
    "colab": {
      "provenance": []
    },
    "kernelspec": {
      "name": "python3",
      "display_name": "Python 3"
    },
    "language_info": {
      "name": "python"
    }
  },
  "cells": [
    {
      "cell_type": "code",
      "source": [
        "# actbal -- c/d/cb the amount given by user 3 times\n",
        "ab = 100\n",
        "while (True):\n",
        "  action = input('Do u want to credit/debit/check/exit ?')\n",
        "  if action == 'exit':\n",
        "    break\n",
        "  elif action == 'check':\n",
        "    print('Current Bal is: ',ab)\n",
        "  else:\n",
        "    amt = float(input('Enter amount: '))\n",
        "    if action == 'credit':\n",
        "      ab += amt\n",
        "      print('Current Bal is: ',ab)\n",
        "    elif action == 'debit':\n",
        "      ab -= amt\n",
        "      print('Current Bal is: ',ab)\n",
        "    else:\n",
        "      print('choose correct option')"
      ],
      "metadata": {
        "colab": {
          "base_uri": "https://localhost:8080/"
        },
        "id": "zgoNS7tpPZHI",
        "outputId": "2e74a487-4ede-48b5-b952-b400bd5bb3a8"
      },
      "execution_count": null,
      "outputs": [
        {
          "name": "stdout",
          "output_type": "stream",
          "text": [
            "Do u want to credit/debit/check/exit ?20\n",
            "Enter amount: 2\n",
            "choose correct option\n",
            "Do u want to credit/debit/check/exit ?credit\n",
            "Enter amount: 20\n",
            "Current Bal is:  120.0\n",
            "Do u want to credit/debit/check/exit ?debit\n",
            "Enter amount: 50\n",
            "Current Bal is:  70.0\n",
            "Do u want to credit/debit/check/exit ?credit\n",
            "Enter amount: 150\n",
            "Current Bal is:  220.0\n",
            "Do u want to credit/debit/check/exit ?exit\n"
          ]
        }
      ]
    },
    {
      "cell_type": "code",
      "source": [
        "import random\n",
        "score = 0\n",
        "while 1:\n",
        "  cgn = random.randint(1,9)\n",
        "  for attempt in range(1,4):\n",
        "    ugn = int(input('Guess the num: '))\n",
        "    if cgn == ugn:\n",
        "        print('You Won')\n",
        "        if attempt == 1:\n",
        "          score += 10\n",
        "        elif attempt == 2:\n",
        "          score += 5\n",
        "        elif attempt == 3:\n",
        "          score += 1\n",
        "        break\n",
        "\n",
        "    elif cgn < ugn:\n",
        "      print('Your Guess is High')\n",
        "      print('No. of attempts left',3-attempt)\n",
        "    elif cgn > ugn:\n",
        "      print('Your Guess is Low')\n",
        "      print('No. of attempts left',3-attempt)\n",
        "      \n",
        "  ch = input('Do u want to play again?').lower().strip()\n",
        "  if ch[0] == 'n':\n",
        "    print('User Choosed to EXIT')\n",
        "    print('Your Score is: ',score)\n",
        "    break"
      ],
      "metadata": {
        "colab": {
          "base_uri": "https://localhost:8080/"
        },
        "id": "TgVlXEzUP39w",
        "outputId": "4366d920-d0ec-4667-d763-de8ef894c54a"
      },
      "execution_count": null,
      "outputs": [
        {
          "output_type": "stream",
          "name": "stdout",
          "text": [
            "Guess the num: 5\n",
            "Your Guess is High\n",
            "No. of attempts left 2\n",
            "Guess the num: 2\n",
            "Your Guess is Low\n",
            "No. of attempts left 1\n",
            "Guess the num: 4\n",
            "Your Guess is High\n",
            "No. of attempts left 0\n",
            "Do u want to play again?n\n",
            "User Choosed to EXIT\n",
            "Your Score is:  0\n"
          ]
        }
      ]
    },
    {
      "cell_type": "code",
      "source": [
        "i = int (input(\"Enter your age: \"))\n",
        "if i>18:\n",
        "  if i>60:\n",
        "    print('you get grant of sr,')\n",
        "    print('liscence given')\n",
        "elif i>12:\n",
        "  print('learing liscence granted')\n",
        "else:\n",
        "  print('rejected')"
      ],
      "metadata": {
        "id": "nnZh6oaQtUfE",
        "colab": {
          "base_uri": "https://localhost:8080/"
        },
        "outputId": "0b823d26-3e14-4a61-fc4c-7d3b2662a8d4"
      },
      "execution_count": null,
      "outputs": [
        {
          "output_type": "stream",
          "name": "stdout",
          "text": [
            "Enter your age: 15\n",
            "learing liscence granted\n"
          ]
        }
      ]
    },
    {
      "cell_type": "code",
      "source": [
        "#task 2 -- donation greater than 10 excepted, else reject,\n",
        "#donation 100, thank you\n",
        "donation_amount=float(input('enter amount of donation:'))\n",
        "if donation_amount>100:\n",
        "  print('we are graterful',donation_amount,'rs . is recevied')\n",
        "elif donation_amount>10:\n",
        "  print('thank you donation',donation_amount,'rs. is recevied')\n",
        "else: \n",
        "  print('reject',donation_amonut, 'rs is recevied')\n",
        "    \n",
        "    "
      ],
      "metadata": {
        "colab": {
          "base_uri": "https://localhost:8080/"
        },
        "id": "GhR1z50G8_4v",
        "outputId": "0962f2d6-e66b-4849-e9db-8d26cad39cf8"
      },
      "execution_count": null,
      "outputs": [
        {
          "output_type": "stream",
          "name": "stdout",
          "text": [
            "enter amount of donation:101\n",
            "we are graterful 101.0 rs . is recevied\n"
          ]
        }
      ]
    },
    {
      "cell_type": "code",
      "source": [
        "res = 1\n",
        "num = int(input('Enter number for factorical:'))\n",
        "for i in range(1,num+1):\n",
        "  res = res * i\n",
        "  print('factorial:',res)"
      ],
      "metadata": {
        "colab": {
          "base_uri": "https://localhost:8080/"
        },
        "id": "ie78y3km5v7g",
        "outputId": "8244ac9a-32e8-470b-9adc-3cee3e825a78"
      },
      "execution_count": null,
      "outputs": [
        {
          "output_type": "stream",
          "name": "stdout",
          "text": [
            "Enter number for factorical:5\n",
            "factorial: 1\n",
            "factorial: 2\n",
            "factorial: 6\n",
            "factorial: 24\n",
            "factorial: 120\n"
          ]
        }
      ]
    },
    {
      "cell_type": "code",
      "source": [
        " for num in range(1,11):\n",
        "   res = res * i\n",
        "   print('factorial of {} is {}!' . format(num,res))"
      ],
      "metadata": {
        "colab": {
          "base_uri": "https://localhost:8080/"
        },
        "id": "-ZDeJKvr-5xa",
        "outputId": "c1dd9c11-4f41-49a5-e2a1-72d9b8ecb38f"
      },
      "execution_count": null,
      "outputs": [
        {
          "output_type": "stream",
          "name": "stdout",
          "text": [
            "factorial of 1 is 600!\n",
            "factorial of 2 is 3000!\n",
            "factorial of 3 is 15000!\n",
            "factorial of 4 is 75000!\n",
            "factorial of 5 is 375000!\n",
            "factorial of 6 is 1875000!\n",
            "factorial of 7 is 9375000!\n",
            "factorial of 8 is 46875000!\n",
            "factorial of 9 is 234375000!\n",
            "factorial of 10 is 1171875000!\n"
          ]
        }
      ]
    },
    {
      "cell_type": "code",
      "source": [
        " # conditional oprators > > =< < = == ! =\n",
        " a= 10\n",
        " print (a !=1) "
      ],
      "metadata": {
        "colab": {
          "base_uri": "https://localhost:8080/"
        },
        "id": "H3gc2snF1bzT",
        "outputId": "7db95609-edfc-4a5a-d4a6-8e4550e47547"
      },
      "execution_count": null,
      "outputs": [
        {
          "output_type": "stream",
          "name": "stdout",
          "text": [
            "True\n"
          ]
        }
      ]
    },
    {
      "cell_type": "code",
      "source": [
        "v1 = \"neel's birthdays party\"\n",
        "print(v1,type (v1))\n",
        "v2 = 100\n",
        "print(v2,type(v2))\n",
        "v3 = 12.4\n",
        "print(v3,type(v3))\n",
        "v4 = True\n",
        "print(v4, type(v4))\n",
        "v5 = 1+2j\n",
        "print(v5, type (v5))\n",
        "v1"
      ],
      "metadata": {
        "colab": {
          "base_uri": "https://localhost:8080/",
          "height": 122
        },
        "id": "OvbsXQnTFTns",
        "outputId": "94763f87-1aa8-453d-86dd-447ff2ae742b"
      },
      "execution_count": null,
      "outputs": [
        {
          "output_type": "stream",
          "name": "stdout",
          "text": [
            "neel's birthdays party <class 'str'>\n",
            "100 <class 'int'>\n",
            "12.4 <class 'float'>\n",
            "True <class 'bool'>\n",
            "(1+2j) <class 'complex'>\n"
          ]
        },
        {
          "output_type": "execute_result",
          "data": {
            "text/plain": [
              "\"neel's birthdays party\""
            ],
            "application/vnd.google.colaboratory.intrinsic+json": {
              "type": "string"
            }
          },
          "metadata": {},
          "execution_count": 42
        }
      ]
    },
    {
      "cell_type": "code",
      "source": [
        "n=int (input('Enter number:'))\n",
        "if n>0:\n",
        "  print(n, 'is positive')\n",
        "elif n==0:\n",
        "  print(n, 'is zero')\n",
        "else:\n",
        "  print(n, 'is negative')"
      ],
      "metadata": {
        "colab": {
          "base_uri": "https://localhost:8080/"
        },
        "id": "D1u6pgiK6Crw",
        "outputId": "f8d91b7e-bcf8-4d9b-d1f9-ced4966b2949"
      },
      "execution_count": null,
      "outputs": [
        {
          "output_type": "stream",
          "name": "stdout",
          "text": [
            "Enter number:3\n",
            "3 is positive\n"
          ]
        }
      ]
    },
    {
      "cell_type": "code",
      "source": [
        "n = 1\n",
        "while (n<6):\n",
        "  print(n)\n",
        "  n += 1\n",
        "\n",
        "#while as an infinte loop\n",
        "#condition = True/1\n",
        "\n",
        "while (True):\n",
        "  i = int(input('enteri: '))\n",
        "  if i>6:\n",
        "    break\n",
        "    print(i)\n"
      ],
      "metadata": {
        "colab": {
          "base_uri": "https://localhost:8080/"
        },
        "id": "poZ3V13AQZeR",
        "outputId": "5591f65f-395b-4f34-b8f3-ad2d07879169"
      },
      "execution_count": null,
      "outputs": [
        {
          "name": "stdout",
          "output_type": "stream",
          "text": [
            "1\n",
            "2\n",
            "3\n",
            "4\n",
            "5\n",
            "enteri: 2\n",
            "enteri: 1\n",
            "enteri: 2\n",
            "enteri: 1\n",
            "enteri: 6\n",
            "enteri: 7\n"
          ]
        }
      ]
    },
    {
      "cell_type": "code",
      "source": [
        "import time \n",
        "\n",
        "while (True):\n",
        " username = input('Enter username')\n",
        " password = input('Enter password')\n",
        " if username == 'nikita' and password == '9999' :\n",
        "  print('you are login sucefully!!',time.ctime()\n",
        "  )\n",
        "  break\n",
        " print('worng id password! try agian!')"
      ],
      "metadata": {
        "colab": {
          "base_uri": "https://localhost:8080/"
        },
        "id": "PNBWrQpkZg7M",
        "outputId": "c3febf39-8db0-4176-9607-73fd616b8f03"
      },
      "execution_count": null,
      "outputs": [
        {
          "output_type": "stream",
          "name": "stdout",
          "text": [
            "Enter usernamenikita\n",
            "Enter password9999\n",
            "you are login sucefully!! Fri Jan 27 06:40:17 2023\n"
          ]
        }
      ]
    },
    {
      "cell_type": "code",
      "source": [
        "for ch in 7,2,0,80,101,5,33,6,0,4:\n",
        "  if ch ==0:\n",
        "    continue\n",
        "  ans = 100/ch \n",
        "  if ans == 0:\n",
        "    break\n",
        "    print(100//ch)"
      ],
      "metadata": {
        "id": "FhlFwvtwQg1T"
      },
      "execution_count": null,
      "outputs": []
    }
  ]
}